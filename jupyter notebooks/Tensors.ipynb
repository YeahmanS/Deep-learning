{
  "nbformat": 4,
  "nbformat_minor": 0,
  "metadata": {
    "colab": {
      "provenance": []
    },
    "kernelspec": {
      "name": "python3",
      "display_name": "Python 3"
    },
    "language_info": {
      "name": "python"
    }
  },
  "cells": [
    {
      "cell_type": "markdown",
      "source": [
        "#TENSORS IN PYTHON"
      ],
      "metadata": {
        "id": "wYKx-uObGo01"
      }
    },
    {
      "cell_type": "markdown",
      "source": [
        "It's like set of blocks where each block form array then two array for matrices and so on"
      ],
      "metadata": {
        "id": "plFU-aQ0IQED"
      }
    },
    {
      "cell_type": "code",
      "execution_count": null,
      "metadata": {
        "id": "nWShR1_aGmpn"
      },
      "outputs": [],
      "source": [
        "import torch"
      ]
    },
    {
      "cell_type": "code",
      "source": [
        "tensored=torch.tensor([[[0,255,255],\n",
        "              [0,167,255],\n",
        "              [0,123,123]],\n",
        "             [[0,255,168],\n",
        "              [0,123,255],\n",
        "              [0,255,124]]])\n",
        "print(f\"number of element in tensor : {tensored.numel()}\")\n",
        "print(f\"shape of tensor : {tensored.shape}\")\n",
        "print(f\"dimension of tensor : {tensored.dim()}\")"
      ],
      "metadata": {
        "colab": {
          "base_uri": "https://localhost:8080/"
        },
        "id": "CmHJxKhDG0wX",
        "outputId": "c88cf474-d231-47b8-fdbe-730e74954cfd"
      },
      "execution_count": null,
      "outputs": [
        {
          "output_type": "stream",
          "name": "stdout",
          "text": [
            "number of element in tensor : 18\n",
            "shape of tensor : torch.Size([2, 3, 3])\n",
            "dimension of tensor : 3\n"
          ]
        }
      ]
    },
    {
      "cell_type": "code",
      "source": [
        "print(tensored.reshape(1,18).shape)\n",
        "print(tensored.reshape(18,1))\n"
      ],
      "metadata": {
        "colab": {
          "base_uri": "https://localhost:8080/"
        },
        "id": "exZUt-VOHBSn",
        "outputId": "aa6e015c-6916-487f-d803-e083b982b7a2"
      },
      "execution_count": null,
      "outputs": [
        {
          "output_type": "stream",
          "name": "stdout",
          "text": [
            "torch.Size([1, 18])\n",
            "tensor([[  0],\n",
            "        [255],\n",
            "        [255],\n",
            "        [  0],\n",
            "        [167],\n",
            "        [255],\n",
            "        [  0],\n",
            "        [123],\n",
            "        [123],\n",
            "        [  0],\n",
            "        [255],\n",
            "        [168],\n",
            "        [  0],\n",
            "        [123],\n",
            "        [255],\n",
            "        [  0],\n",
            "        [255],\n",
            "        [124]])\n"
          ]
        }
      ]
    },
    {
      "cell_type": "code",
      "source": [],
      "metadata": {
        "id": "ONhnqkcdNH6v"
      },
      "execution_count": null,
      "outputs": []
    }
  ]
}