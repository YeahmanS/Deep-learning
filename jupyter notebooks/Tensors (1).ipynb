{
  "nbformat": 4,
  "nbformat_minor": 0,
  "metadata": {
    "colab": {
      "provenance": [],
      "collapsed_sections": [
        "AF20G-ybFidX"
      ]
    },
    "kernelspec": {
      "name": "python3",
      "display_name": "Python 3"
    },
    "language_info": {
      "name": "python"
    }
  },
  "cells": [
    {
      "cell_type": "markdown",
      "source": [
        "#TENSORS IN PYTHON"
      ],
      "metadata": {
        "id": "wYKx-uObGo01"
      }
    },
    {
      "cell_type": "markdown",
      "source": [
        "It's like set of blocks where each block form array then two array for matrices and so on"
      ],
      "metadata": {
        "id": "plFU-aQ0IQED"
      }
    },
    {
      "cell_type": "code",
      "execution_count": null,
      "metadata": {
        "id": "nWShR1_aGmpn"
      },
      "outputs": [],
      "source": [
        "import torch"
      ]
    },
    {
      "cell_type": "code",
      "source": [
        "if torch.cuda.is_available():\n",
        "  print(\"Using GPU\")\n",
        "  print(f\"GPU available : {torch.cuda.get_device_name(0)}\")\n",
        "else :\n",
        "  print(\"GPU not available.. Using CPU\")"
      ],
      "metadata": {
        "colab": {
          "base_uri": "https://localhost:8080/"
        },
        "id": "Gf2gJgWH9W3Y",
        "outputId": "e3bd724b-04ac-4823-e1fe-b39997d930f8"
      },
      "execution_count": null,
      "outputs": [
        {
          "output_type": "stream",
          "name": "stdout",
          "text": [
            "GPU not available.. Using CPU\n"
          ]
        }
      ]
    },
    {
      "cell_type": "code",
      "source": [
        "tensored=torch.tensor([[[0,255,255],\n",
        "              [0,167,255],\n",
        "              [0,123,123]],\n",
        "             [[0,255,168],\n",
        "              [0,123,255],\n",
        "              [0,255,124]]])\n",
        "print(f\"number of element in tensor : {tensored.numel()}\")\n",
        "print(f\"shape of tensor : {tensored.shape}\")\n",
        "print(f\"dimension of tensor : {tensored.dim()}\")"
      ],
      "metadata": {
        "colab": {
          "base_uri": "https://localhost:8080/"
        },
        "id": "CmHJxKhDG0wX",
        "outputId": "455d88ce-7d9a-48b3-ed17-fc04eac0be97"
      },
      "execution_count": null,
      "outputs": [
        {
          "output_type": "stream",
          "name": "stdout",
          "text": [
            "number of element in tensor : 18\n",
            "shape of tensor : torch.Size([2, 3, 3])\n",
            "dimension of tensor : 3\n"
          ]
        }
      ]
    },
    {
      "cell_type": "code",
      "source": [
        "print(tensored.reshape(6,-1).shape)\n",
        "tensored.reshape(-1,6)"
      ],
      "metadata": {
        "colab": {
          "base_uri": "https://localhost:8080/"
        },
        "id": "exZUt-VOHBSn",
        "outputId": "459679f9-e56e-4f8f-f3a9-e968f0354900"
      },
      "execution_count": null,
      "outputs": [
        {
          "output_type": "stream",
          "name": "stdout",
          "text": [
            "torch.Size([6, 3])\n"
          ]
        },
        {
          "output_type": "execute_result",
          "data": {
            "text/plain": [
              "tensor([[  0, 255, 255,   0, 167, 255],\n",
              "        [  0, 123, 123,   0, 255, 168],\n",
              "        [  0, 123, 255,   0, 255, 124]])"
            ]
          },
          "metadata": {},
          "execution_count": 19
        }
      ]
    },
    {
      "cell_type": "code",
      "source": [
        "# arange(start,end,step,dtype,device)\n",
        "torch.arange(5,10,2)"
      ],
      "metadata": {
        "id": "ONhnqkcdNH6v",
        "colab": {
          "base_uri": "https://localhost:8080/"
        },
        "outputId": "568d6354-d824-4c86-8a6a-dddbcba4a173"
      },
      "execution_count": null,
      "outputs": [
        {
          "output_type": "execute_result",
          "data": {
            "text/plain": [
              "tensor([5, 7, 9])"
            ]
          },
          "metadata": {},
          "execution_count": 20
        }
      ]
    },
    {
      "cell_type": "markdown",
      "source": [
        "## Creating Tensor"
      ],
      "metadata": {
        "id": "ZtVnSJhkAo2B"
      }
    },
    {
      "cell_type": "code",
      "source": [
        "#Initialising empty tensor these values are just numbers stored in that placed which this function allocate\n",
        "torch.empty(2,3)"
      ],
      "metadata": {
        "colab": {
          "base_uri": "https://localhost:8080/"
        },
        "id": "w67I34Vw7Jfq",
        "outputId": "6142d8cb-d5fa-4e56-c78b-cbb4bf09636c"
      },
      "execution_count": null,
      "outputs": [
        {
          "output_type": "execute_result",
          "data": {
            "text/plain": [
              "tensor([[1.5695e-43, 1.4153e-43, 5.6052e-44],\n",
              "        [6.8664e-44, 7.8473e-44, 6.1657e-44]])"
            ]
          },
          "metadata": {},
          "execution_count": 21
        }
      ]
    },
    {
      "cell_type": "code",
      "source": [
        "# Initialising with zeros and ones\n",
        "print(torch.zeros(2,3))\n",
        "print(\"\\n\")\n",
        "print(torch.ones(2,3))"
      ],
      "metadata": {
        "colab": {
          "base_uri": "https://localhost:8080/"
        },
        "id": "6Vx8oa5vCiSL",
        "outputId": "76079e67-7b5d-4739-b09e-07d644421896"
      },
      "execution_count": null,
      "outputs": [
        {
          "output_type": "stream",
          "name": "stdout",
          "text": [
            "tensor([[0., 0., 0.],\n",
            "        [0., 0., 0.]])\n",
            "\n",
            "\n",
            "tensor([[1., 1., 1.],\n",
            "        [1., 1., 1.]])\n"
          ]
        }
      ]
    },
    {
      "cell_type": "markdown",
      "source": [
        "`tensor.device `: The device on which the tensor is stored (e.g., \"cpu\" or \"cuda:0\").\n",
        "\n",
        "\n",
        "`tensor.requires_grad`: Whether PyTorch is tracking operations on the tensor for automatic differentiation.\n"
      ],
      "metadata": {
        "id": "2E0ZfvNdEdiE"
      }
    },
    {
      "cell_type": "code",
      "source": [
        "#initialising with random number from gaussian distribution\n",
        "torch.rand(2,3)"
      ],
      "metadata": {
        "colab": {
          "base_uri": "https://localhost:8080/"
        },
        "id": "guTyXTLICtwf",
        "outputId": "cfc4027e-3928-4701-a4f8-28aa47a4b5e8"
      },
      "execution_count": null,
      "outputs": [
        {
          "output_type": "execute_result",
          "data": {
            "text/plain": [
              "tensor([[0.1322, 0.4760, 0.3989],\n",
              "        [0.7317, 0.0720, 0.2252]])"
            ]
          },
          "metadata": {},
          "execution_count": 26
        }
      ]
    },
    {
      "cell_type": "code",
      "source": [
        "#we can also manually create tensor\n",
        "torch.tensor([[2, 1, 4, 3], [1, 2, 3, 4], [4, 3, 2, 1]]).dim()"
      ],
      "metadata": {
        "colab": {
          "base_uri": "https://localhost:8080/"
        },
        "id": "yXC3WpllE1t6",
        "outputId": "5a307f18-e072-458e-e07d-12a1d7cf238f"
      },
      "execution_count": null,
      "outputs": [
        {
          "output_type": "execute_result",
          "data": {
            "text/plain": [
              "2"
            ]
          },
          "metadata": {},
          "execution_count": 29
        }
      ]
    },
    {
      "cell_type": "code",
      "source": [
        "X = torch.arange(0,12).reshape(3,4)\n",
        "X"
      ],
      "metadata": {
        "colab": {
          "base_uri": "https://localhost:8080/"
        },
        "id": "35lh-mVLFEUO",
        "outputId": "175b82b4-aa5c-414f-f479-d38d68585166"
      },
      "execution_count": null,
      "outputs": [
        {
          "output_type": "execute_result",
          "data": {
            "text/plain": [
              "tensor([[ 0,  1,  2,  3],\n",
              "        [ 4,  5,  6,  7],\n",
              "        [ 8,  9, 10, 11]])"
            ]
          },
          "metadata": {},
          "execution_count": 25
        }
      ]
    },
    {
      "cell_type": "code",
      "source": [
        "#using linspace we give range and number of equally spaced elements we want in it\n",
        "print(torch.linspace(0,10,20))\n",
        "#using `eye` we create identity matrix\n",
        "print(\"\\n\")\n",
        "print(torch.eye(5))\n",
        "#using full we can create tensor filled with certain elemnt\n",
        "print(\"\\n\")\n",
        "print(torch.full((2,3),5))"
      ],
      "metadata": {
        "colab": {
          "base_uri": "https://localhost:8080/"
        },
        "id": "f0sKfMMDijRR",
        "outputId": "1d161ad0-f229-49b9-f138-751b64d011e0"
      },
      "execution_count": null,
      "outputs": [
        {
          "output_type": "stream",
          "name": "stdout",
          "text": [
            "tensor([ 0.0000,  0.5263,  1.0526,  1.5789,  2.1053,  2.6316,  3.1579,  3.6842,\n",
            "         4.2105,  4.7368,  5.2632,  5.7895,  6.3158,  6.8421,  7.3684,  7.8947,\n",
            "         8.4211,  8.9474,  9.4737, 10.0000])\n",
            "\n",
            "\n",
            "tensor([[1., 0., 0., 0., 0.],\n",
            "        [0., 1., 0., 0., 0.],\n",
            "        [0., 0., 1., 0., 0.],\n",
            "        [0., 0., 0., 1., 0.],\n",
            "        [0., 0., 0., 0., 1.]])\n",
            "\n",
            "\n",
            "tensor([[5, 5, 5],\n",
            "        [5, 5, 5]])\n"
          ]
        }
      ]
    },
    {
      "cell_type": "markdown",
      "source": [
        "## TENSOR SLICING\n",
        "\n",
        "includes the first `index (start)` but not the last `(stop)` ."
      ],
      "metadata": {
        "id": "AF20G-ybFidX"
      }
    },
    {
      "cell_type": "code",
      "source": [
        "X[1:3]"
      ],
      "metadata": {
        "colab": {
          "base_uri": "https://localhost:8080/"
        },
        "id": "y-uUaUYxFRIJ",
        "outputId": "b8155767-8296-43f8-85c9-95a62ac0901b"
      },
      "execution_count": null,
      "outputs": [
        {
          "output_type": "execute_result",
          "data": {
            "text/plain": [
              "tensor([[ 4,  5,  6,  7],\n",
              "        [ 8,  9, 10, 11]])"
            ]
          },
          "metadata": {},
          "execution_count": 34
        }
      ]
    },
    {
      "cell_type": "code",
      "source": [
        "X[1:3,0:2]"
      ],
      "metadata": {
        "colab": {
          "base_uri": "https://localhost:8080/"
        },
        "id": "VuuyrKHdFUZq",
        "outputId": "e9409f1c-b917-4afe-f500-2223f8dbd916"
      },
      "execution_count": null,
      "outputs": [
        {
          "output_type": "execute_result",
          "data": {
            "text/plain": [
              "tensor([[4, 5],\n",
              "        [8, 9]])"
            ]
          },
          "metadata": {},
          "execution_count": 36
        }
      ]
    },
    {
      "cell_type": "markdown",
      "source": [
        "#SEED\n",
        "We can also set manual seed"
      ],
      "metadata": {
        "id": "tNKWo5iKhiJn"
      }
    },
    {
      "cell_type": "code",
      "source": [
        "torch.rand(2,3)"
      ],
      "metadata": {
        "id": "F2uoAoE4F02S",
        "colab": {
          "base_uri": "https://localhost:8080/"
        },
        "outputId": "717c1689-cad6-4bb5-f310-e86ed23dfa5b"
      },
      "execution_count": null,
      "outputs": [
        {
          "output_type": "execute_result",
          "data": {
            "text/plain": [
              "tensor([[0.4022, 0.4708, 0.7814],\n",
              "        [0.4900, 0.3698, 0.1926]])"
            ]
          },
          "metadata": {},
          "execution_count": 4
        }
      ]
    },
    {
      "cell_type": "code",
      "source": [
        "torch.rand(2,3)"
      ],
      "metadata": {
        "colab": {
          "base_uri": "https://localhost:8080/"
        },
        "id": "nj9ChfejhooC",
        "outputId": "e4d08d0f-d518-41d5-caa1-5a951d9089e6"
      },
      "execution_count": null,
      "outputs": [
        {
          "output_type": "execute_result",
          "data": {
            "text/plain": [
              "tensor([[0.3151, 0.0408, 0.5553],\n",
              "        [0.9050, 0.6724, 0.8179]])"
            ]
          },
          "metadata": {},
          "execution_count": 5
        }
      ]
    },
    {
      "cell_type": "code",
      "source": [
        "torch.manual_seed(42)\n",
        "torch.rand(2,3)"
      ],
      "metadata": {
        "colab": {
          "base_uri": "https://localhost:8080/"
        },
        "id": "_FSg5LQBiT2g",
        "outputId": "2f76bd11-4a1b-4eb6-af56-cb3d94496c0a"
      },
      "execution_count": null,
      "outputs": [
        {
          "output_type": "execute_result",
          "data": {
            "text/plain": [
              "tensor([[0.8823, 0.9150, 0.3829],\n",
              "        [0.9593, 0.3904, 0.6009]])"
            ]
          },
          "metadata": {},
          "execution_count": 15
        }
      ]
    },
    {
      "cell_type": "code",
      "source": [
        "torch.manual_seed(42)\n",
        "torch.rand(2,3)"
      ],
      "metadata": {
        "colab": {
          "base_uri": "https://localhost:8080/"
        },
        "id": "WJnzMW0Fic3F",
        "outputId": "cc5fb7aa-2451-4e56-c201-9b09f0616e68"
      },
      "execution_count": null,
      "outputs": [
        {
          "output_type": "execute_result",
          "data": {
            "text/plain": [
              "tensor([[0.8823, 0.9150, 0.3829],\n",
              "        [0.9593, 0.3904, 0.6009]])"
            ]
          },
          "metadata": {},
          "execution_count": 16
        }
      ]
    },
    {
      "cell_type": "code",
      "source": [
        "torch.rand(2,3)"
      ],
      "metadata": {
        "colab": {
          "base_uri": "https://localhost:8080/"
        },
        "id": "Ojj5BbV6ijFW",
        "outputId": "724cac3b-11f7-4161-fa77-fadac58b3577"
      },
      "execution_count": null,
      "outputs": [
        {
          "output_type": "execute_result",
          "data": {
            "text/plain": [
              "tensor([[0.9516, 0.0753, 0.8860],\n",
              "        [0.5832, 0.3376, 0.8090]])"
            ]
          },
          "metadata": {},
          "execution_count": 21
        }
      ]
    },
    {
      "cell_type": "code",
      "source": [],
      "metadata": {
        "id": "vmFjiJpUikzW"
      },
      "execution_count": null,
      "outputs": []
    },
    {
      "cell_type": "markdown",
      "source": [
        "# Copying existing tensor"
      ],
      "metadata": {
        "id": "NWALSYGli_Ru"
      }
    },
    {
      "cell_type": "code",
      "source": [
        "Y=torch.empty_like(X)\n",
        "Y"
      ],
      "metadata": {
        "colab": {
          "base_uri": "https://localhost:8080/"
        },
        "id": "V7uj_Lz0i-iC",
        "outputId": "980ee572-8f61-4d47-8314-afc7bd2bd4f7"
      },
      "execution_count": null,
      "outputs": [
        {
          "output_type": "execute_result",
          "data": {
            "text/plain": [
              "tensor([[8030883940602478592, 7307199746910528123, 2475047244994847347,\n",
              "         8318840530341473373],\n",
              "        [4189021028717916783, 8458642046707773984, 7022364572756439922,\n",
              "         3184663000500040818],\n",
              "        [7017841271895826976, 7143407337307529588, 8104636957451185263,\n",
              "         8243118355370701669]])"
            ]
          },
          "metadata": {},
          "execution_count": 27
        }
      ]
    },
    {
      "cell_type": "code",
      "source": [
        "torch.ones_like(X)"
      ],
      "metadata": {
        "colab": {
          "base_uri": "https://localhost:8080/"
        },
        "id": "1nqSTE3PkyGe",
        "outputId": "0c14f35d-a2bf-40af-86a9-9d04a94115fd"
      },
      "execution_count": null,
      "outputs": [
        {
          "output_type": "execute_result",
          "data": {
            "text/plain": [
              "tensor([[1, 1, 1, 1],\n",
              "        [1, 1, 1, 1],\n",
              "        [1, 1, 1, 1]])"
            ]
          },
          "metadata": {},
          "execution_count": 29
        }
      ]
    },
    {
      "cell_type": "markdown",
      "source": [
        "# Arithematic operations on tensor\n"
      ],
      "metadata": {
        "id": "yIYWDEjXpQj_"
      }
    },
    {
      "cell_type": "code",
      "source": [
        "A = torch.arange(0,12).reshape(2,-1)\n",
        "B = torch.arange(12,24).reshape(2,-1)\n",
        "print(A)\n",
        "print(\"\\n\")\n",
        "print(B)"
      ],
      "metadata": {
        "colab": {
          "base_uri": "https://localhost:8080/"
        },
        "id": "mOgOASRRk4PP",
        "outputId": "b35f0d48-fd3c-4900-b099-bd215dd22351"
      },
      "execution_count": null,
      "outputs": [
        {
          "output_type": "stream",
          "name": "stdout",
          "text": [
            "tensor([[ 0,  1,  2,  3,  4,  5],\n",
            "        [ 6,  7,  8,  9, 10, 11]])\n",
            "\n",
            "\n",
            "tensor([[12, 13, 14, 15, 16, 17],\n",
            "        [18, 19, 20, 21, 22, 23]])\n"
          ]
        }
      ]
    },
    {
      "cell_type": "code",
      "source": [
        "A+B"
      ],
      "metadata": {
        "colab": {
          "base_uri": "https://localhost:8080/"
        },
        "id": "jjx_66w5szTT",
        "outputId": "493b6b2d-ffe2-49d2-ce02-adae1a6d9940"
      },
      "execution_count": null,
      "outputs": [
        {
          "output_type": "execute_result",
          "data": {
            "text/plain": [
              "tensor([[12, 14, 16, 18, 20, 22],\n",
              "        [24, 26, 28, 30, 32, 34]])"
            ]
          },
          "metadata": {},
          "execution_count": 5
        }
      ]
    },
    {
      "cell_type": "code",
      "source": [
        "A-B"
      ],
      "metadata": {
        "colab": {
          "base_uri": "https://localhost:8080/"
        },
        "id": "JdnPpM6wtQub",
        "outputId": "84dacae9-518f-44fb-f618-5876b9926bb4"
      },
      "execution_count": null,
      "outputs": [
        {
          "output_type": "execute_result",
          "data": {
            "text/plain": [
              "tensor([[-12, -12, -12, -12, -12, -12],\n",
              "        [-12, -12, -12, -12, -12, -12]])"
            ]
          },
          "metadata": {},
          "execution_count": 6
        }
      ]
    },
    {
      "cell_type": "code",
      "source": [
        "A*B"
      ],
      "metadata": {
        "colab": {
          "base_uri": "https://localhost:8080/"
        },
        "id": "vMdlVJp2tR5u",
        "outputId": "85f10026-23c2-4355-bb10-318038180b8e"
      },
      "execution_count": null,
      "outputs": [
        {
          "output_type": "execute_result",
          "data": {
            "text/plain": [
              "tensor([[  0,  13,  28,  45,  64,  85],\n",
              "        [108, 133, 160, 189, 220, 253]])"
            ]
          },
          "metadata": {},
          "execution_count": 7
        }
      ]
    },
    {
      "cell_type": "code",
      "source": [
        "A/B"
      ],
      "metadata": {
        "colab": {
          "base_uri": "https://localhost:8080/"
        },
        "id": "ZgtiY3o8tSwe",
        "outputId": "d50b8001-13c1-4f2d-a789-b1d4547ef3d4"
      },
      "execution_count": null,
      "outputs": [
        {
          "output_type": "execute_result",
          "data": {
            "text/plain": [
              "tensor([[0.0000, 0.0769, 0.1429, 0.2000, 0.2500, 0.2941],\n",
              "        [0.3333, 0.3684, 0.4000, 0.4286, 0.4545, 0.4783]])"
            ]
          },
          "metadata": {},
          "execution_count": 8
        }
      ]
    },
    {
      "cell_type": "code",
      "source": [
        "torch.cat((A,B),dim=0)\n",
        "torch.cat((A,B),dim=1)"
      ],
      "metadata": {
        "colab": {
          "base_uri": "https://localhost:8080/"
        },
        "id": "1-yTtg3VtUJj",
        "outputId": "f53455f1-a66f-4369-bfa4-bf284937a0d5"
      },
      "execution_count": null,
      "outputs": [
        {
          "output_type": "execute_result",
          "data": {
            "text/plain": [
              "tensor([[ 0,  1,  2,  3,  4,  5, 12, 13, 14, 15, 16, 17],\n",
              "        [ 6,  7,  8,  9, 10, 11, 18, 19, 20, 21, 22, 23]])"
            ]
          },
          "metadata": {},
          "execution_count": 12
        }
      ]
    },
    {
      "cell_type": "code",
      "source": [
        "A==B"
      ],
      "metadata": {
        "colab": {
          "base_uri": "https://localhost:8080/"
        },
        "id": "3FLvXDnCgGUh",
        "outputId": "ebbec7f5-5c42-4526-a535-a2562c3bfde4"
      },
      "execution_count": null,
      "outputs": [
        {
          "output_type": "execute_result",
          "data": {
            "text/plain": [
              "tensor([[False, False, False, False, False, False],\n",
              "        [False, False, False, False, False, False]])"
            ]
          },
          "metadata": {},
          "execution_count": 13
        }
      ]
    },
    {
      "cell_type": "code",
      "source": [
        "A>B"
      ],
      "metadata": {
        "colab": {
          "base_uri": "https://localhost:8080/"
        },
        "id": "TFVDgWEAgY5y",
        "outputId": "e99fb898-443d-4404-b525-00b46f4fb9ed"
      },
      "execution_count": null,
      "outputs": [
        {
          "output_type": "execute_result",
          "data": {
            "text/plain": [
              "tensor([[False, False, False, False, False, False],\n",
              "        [False, False, False, False, False, False]])"
            ]
          },
          "metadata": {},
          "execution_count": 14
        }
      ]
    },
    {
      "cell_type": "code",
      "source": [
        "A<B"
      ],
      "metadata": {
        "colab": {
          "base_uri": "https://localhost:8080/"
        },
        "id": "thw8LQjBgaI9",
        "outputId": "a0fc3363-4a89-40a2-d42c-8f64f3be5452"
      },
      "execution_count": null,
      "outputs": [
        {
          "output_type": "execute_result",
          "data": {
            "text/plain": [
              "tensor([[True, True, True, True, True, True],\n",
              "        [True, True, True, True, True, True]])"
            ]
          },
          "metadata": {},
          "execution_count": 15
        }
      ]
    },
    {
      "cell_type": "code",
      "source": [
        "A.sum()"
      ],
      "metadata": {
        "colab": {
          "base_uri": "https://localhost:8080/"
        },
        "id": "XDIXqbYwgbbt",
        "outputId": "2adade42-d59d-42ca-858d-568c4dc39063"
      },
      "execution_count": null,
      "outputs": [
        {
          "output_type": "execute_result",
          "data": {
            "text/plain": [
              "tensor(66)"
            ]
          },
          "metadata": {},
          "execution_count": 16
        }
      ]
    },
    {
      "cell_type": "code",
      "source": [
        "print(A.sum(dim=0))\n",
        "print(A.sum(dim=1))"
      ],
      "metadata": {
        "colab": {
          "base_uri": "https://localhost:8080/"
        },
        "id": "QFT5A0qAgeFL",
        "outputId": "1ca0d5ce-add4-468e-ee19-04a34d6f046f"
      },
      "execution_count": null,
      "outputs": [
        {
          "output_type": "stream",
          "name": "stdout",
          "text": [
            "tensor([ 6,  8, 10, 12, 14, 16])\n",
            "tensor([15, 51])\n"
          ]
        }
      ]
    },
    {
      "cell_type": "markdown",
      "source": [
        "#Broadcasting"
      ],
      "metadata": {
        "id": "9wpY_mW2mZ5S"
      }
    },
    {
      "cell_type": "code",
      "source": [
        "a = torch.arange(3).reshape((3, 1))\n",
        "b = torch.arange(2).reshape((1, 2))\n",
        "a, b"
      ],
      "metadata": {
        "colab": {
          "base_uri": "https://localhost:8080/"
        },
        "id": "vsHKW8Rkgj_w",
        "outputId": "abe868db-efd9-4f66-bbd5-f7cd77eaa3b5"
      },
      "execution_count": null,
      "outputs": [
        {
          "output_type": "execute_result",
          "data": {
            "text/plain": [
              "(tensor([[0],\n",
              "         [1],\n",
              "         [2]]),\n",
              " tensor([[0, 1]]))"
            ]
          },
          "metadata": {},
          "execution_count": 19
        }
      ]
    },
    {
      "cell_type": "code",
      "source": [
        "a+b,b+a"
      ],
      "metadata": {
        "colab": {
          "base_uri": "https://localhost:8080/"
        },
        "id": "TplfLS-kmcyQ",
        "outputId": "ca0f3062-9649-4c10-ba3a-20cd904d347b"
      },
      "execution_count": null,
      "outputs": [
        {
          "output_type": "execute_result",
          "data": {
            "text/plain": [
              "(tensor([[0, 1],\n",
              "         [1, 2],\n",
              "         [2, 3]]),\n",
              " tensor([[0, 1],\n",
              "         [1, 2],\n",
              "         [2, 3]]))"
            ]
          },
          "metadata": {},
          "execution_count": 22
        }
      ]
    },
    {
      "cell_type": "code",
      "source": [
        "a-b"
      ],
      "metadata": {
        "colab": {
          "base_uri": "https://localhost:8080/"
        },
        "id": "n1LyU_9Eme9-",
        "outputId": "57fc9191-6ed3-4660-b36b-3b9f9711a21a"
      },
      "execution_count": null,
      "outputs": [
        {
          "output_type": "execute_result",
          "data": {
            "text/plain": [
              "tensor([[ 0, -1],\n",
              "        [ 1,  0],\n",
              "        [ 2,  1]])"
            ]
          },
          "metadata": {},
          "execution_count": 21
        }
      ]
    },
    {
      "cell_type": "code",
      "source": [
        "a*b"
      ],
      "metadata": {
        "colab": {
          "base_uri": "https://localhost:8080/"
        },
        "id": "vc_Jz7ZPmhyv",
        "outputId": "db756885-a1fc-423c-f4c5-6375e3e290b5"
      },
      "execution_count": null,
      "outputs": [
        {
          "output_type": "execute_result",
          "data": {
            "text/plain": [
              "tensor([[0, 0],\n",
              "        [0, 1],\n",
              "        [0, 2]])"
            ]
          },
          "metadata": {},
          "execution_count": 23
        }
      ]
    },
    {
      "cell_type": "code",
      "source": [
        "a/b"
      ],
      "metadata": {
        "colab": {
          "base_uri": "https://localhost:8080/"
        },
        "id": "1qUdNynVmmDn",
        "outputId": "ed69f95c-9020-4d9d-bb0f-ee4eb4e24093"
      },
      "execution_count": null,
      "outputs": [
        {
          "output_type": "execute_result",
          "data": {
            "text/plain": [
              "tensor([[nan, 0.],\n",
              "        [inf, 1.],\n",
              "        [inf, 2.]])"
            ]
          },
          "metadata": {},
          "execution_count": 24
        }
      ]
    },
    {
      "cell_type": "markdown",
      "source": [
        "#Memory saving in torch"
      ],
      "metadata": {
        "id": "Ow60krL3oBEY"
      }
    },
    {
      "cell_type": "markdown",
      "source": [
        "Running operations can cause new memory to be allocated to host results. For example, if we write Y = X + Y, we dereference the tensor that Y used to point to and instead point Y at the newly allocated memory. We can demonstrate this issue with Python’s id() function, which gives us the exact address of the referenced object in memory. Note that after we run Y = Y + X, id(Y) points to a different location. That is because Python first evaluates Y + X, allocating new memory for the result and then points Y to this new location in memory."
      ],
      "metadata": {
        "id": "1HFCK5xnoP9t"
      }
    },
    {
      "cell_type": "code",
      "source": [
        "A,B"
      ],
      "metadata": {
        "colab": {
          "base_uri": "https://localhost:8080/"
        },
        "id": "a7pM4NWlmngN",
        "outputId": "17a5a72a-8e17-437a-9c59-eaa5c60dc377"
      },
      "execution_count": null,
      "outputs": [
        {
          "output_type": "execute_result",
          "data": {
            "text/plain": [
              "(tensor([[ 0,  1,  2,  3,  4,  5],\n",
              "         [ 6,  7,  8,  9, 10, 11]]),\n",
              " tensor([[12, 13, 14, 15, 16, 17],\n",
              "         [18, 19, 20, 21, 22, 23]]))"
            ]
          },
          "metadata": {},
          "execution_count": 27
        }
      ]
    },
    {
      "cell_type": "code",
      "source": [
        "id(A)"
      ],
      "metadata": {
        "colab": {
          "base_uri": "https://localhost:8080/"
        },
        "id": "Up4AFSqeocPa",
        "outputId": "8ddd8491-622e-43a2-e612-8839c0a6d9cc"
      },
      "execution_count": null,
      "outputs": [
        {
          "output_type": "execute_result",
          "data": {
            "text/plain": [
              "131953583438160"
            ]
          },
          "metadata": {},
          "execution_count": 28
        }
      ]
    },
    {
      "cell_type": "code",
      "source": [
        "A=A+B\n",
        "id(A)"
      ],
      "metadata": {
        "colab": {
          "base_uri": "https://localhost:8080/"
        },
        "id": "NQ3DiUguojww",
        "outputId": "abaaff17-3138-442b-f5f9-4bf9d29a88c6"
      },
      "execution_count": null,
      "outputs": [
        {
          "output_type": "execute_result",
          "data": {
            "text/plain": [
              "131952332355248"
            ]
          },
          "metadata": {},
          "execution_count": 29
        }
      ]
    },
    {
      "cell_type": "code",
      "source": [
        "A"
      ],
      "metadata": {
        "colab": {
          "base_uri": "https://localhost:8080/"
        },
        "id": "P2AcrO0Fom8D",
        "outputId": "b787ee80-f10b-4a2f-e16e-00e43684e251"
      },
      "execution_count": null,
      "outputs": [
        {
          "output_type": "execute_result",
          "data": {
            "text/plain": [
              "tensor([[12, 14, 16, 18, 20, 22],\n",
              "        [24, 26, 28, 30, 32, 34]])"
            ]
          },
          "metadata": {},
          "execution_count": 30
        }
      ]
    },
    {
      "cell_type": "markdown",
      "source": [
        "This might be undesirable for two reasons. First, we do not want to run around allocating memory unnecessarily all the time. In machine learning, we often have hundreds of megabytes of parameters and update all of them multiple times per second. Whenever possible, we want to perform these updates in place. Second, we might point at the same parameters from multiple variables. If we do not update in place, we must be careful to update all of these references, lest we spring a memory leak or inadvertently refer to stale parameters."
      ],
      "metadata": {
        "id": "JqKBkYX_oyeu"
      }
    },
    {
      "cell_type": "code",
      "source": [
        "#we can use [:]\n",
        "Z=torch.ones_like(A)\n",
        "print(Z)\n",
        "print(id(Z))\n",
        "Z[:]=A+B\n",
        "print(id(Z))"
      ],
      "metadata": {
        "colab": {
          "base_uri": "https://localhost:8080/"
        },
        "id": "6vjQFuY5opqL",
        "outputId": "9cc1cb4f-f1d8-49da-92be-806f10cb7cbf"
      },
      "execution_count": null,
      "outputs": [
        {
          "output_type": "stream",
          "name": "stdout",
          "text": [
            "tensor([[1, 1, 1, 1, 1, 1],\n",
            "        [1, 1, 1, 1, 1, 1]])\n",
            "131952333941616\n",
            "131952333941616\n"
          ]
        }
      ]
    },
    {
      "cell_type": "code",
      "source": [
        "#we can also use X[:] = X + Y or X += Y to reduce the memory overhead of the operation.\n",
        "print(id(A))\n",
        "A+=B\n",
        "print(id(A))\n"
      ],
      "metadata": {
        "colab": {
          "base_uri": "https://localhost:8080/"
        },
        "id": "fwQ2u5supEAp",
        "outputId": "794769dc-92de-4829-c645-4715de0efe67"
      },
      "execution_count": null,
      "outputs": [
        {
          "output_type": "stream",
          "name": "stdout",
          "text": [
            "131952332355248\n",
            "131952332355248\n"
          ]
        }
      ]
    },
    {
      "cell_type": "markdown",
      "source": [
        "#changing types"
      ],
      "metadata": {
        "id": "L7dErdfPpxTU"
      }
    },
    {
      "cell_type": "code",
      "source": [
        "X = A.numpy()\n",
        "Y = torch.from_numpy(X)\n",
        "type(X), type(Y)"
      ],
      "metadata": {
        "colab": {
          "base_uri": "https://localhost:8080/"
        },
        "id": "-33GS34kpTi6",
        "outputId": "d6d67df1-d66e-4f97-c404-fb3db3127855"
      },
      "execution_count": null,
      "outputs": [
        {
          "output_type": "execute_result",
          "data": {
            "text/plain": [
              "(numpy.ndarray, torch.Tensor)"
            ]
          },
          "metadata": {},
          "execution_count": 37
        }
      ]
    },
    {
      "cell_type": "code",
      "source": [
        "a = torch.tensor([3.5])\n",
        "a, a.item(), float(a), int(a)"
      ],
      "metadata": {
        "colab": {
          "base_uri": "https://localhost:8080/"
        },
        "id": "vuYGpkz3p527",
        "outputId": "89f9bb5e-8c50-44bc-cc4c-b8812af3ebc6"
      },
      "execution_count": null,
      "outputs": [
        {
          "output_type": "execute_result",
          "data": {
            "text/plain": [
              "(tensor([3.5000]), 3.5, 3.5, 3)"
            ]
          },
          "metadata": {},
          "execution_count": 38
        }
      ]
    },
    {
      "cell_type": "code",
      "source": [
        "\n",
        "type(a), type(a.item()), type(float(a)), type(int(a))"
      ],
      "metadata": {
        "colab": {
          "base_uri": "https://localhost:8080/"
        },
        "id": "PqajOraTp_A1",
        "outputId": "e9f19955-1786-40ed-fb27-440db65ad9e1"
      },
      "execution_count": null,
      "outputs": [
        {
          "output_type": "execute_result",
          "data": {
            "text/plain": [
              "(torch.Tensor, float, float, int)"
            ]
          },
          "metadata": {},
          "execution_count": 39
        }
      ]
    },
    {
      "cell_type": "code",
      "source": [],
      "metadata": {
        "id": "5FcUiMjTqF4J"
      },
      "execution_count": null,
      "outputs": []
    }
  ]
}